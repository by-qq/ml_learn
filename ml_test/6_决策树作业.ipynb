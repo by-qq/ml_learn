{
 "cells": [
  {
   "metadata": {},
   "cell_type": "markdown",
   "source": [
    "## 简答题\n",
    "1. 如果训练集有100万个实例，训练决策树（无约束）大致的深度是多少？\n",
    "\n",
    "log_2 (100_0000)\n",
    "\n",
    "2. 通常来说，子节点的基尼杂质是高于还是低于其父节点？是通常更高/更低？还是永远更高/更低？\n",
    "\n",
    "通常来说子节点的基尼杂志低于父节点，是通常更低。因此在一些情况下分裂对纯度无改善，子节点的基尼杂志可能与父节点相同\n",
    "\n",
    "3. 如果决策树过拟合训练集，减少max_depth是否为一个好主意？\n",
    "\n",
    "是一个好主意，减小最大深度会减少节点的分裂，从而减低拟合程度，这是一种常用的正则化方法。\n",
    "\n",
    "4. 如果决策树对训练集欠拟合，尝试缩放输入特征是否为一个好主意？\n",
    "\n",
    "不是，决策树是基于特征阈值分裂的模型，对特征缩放不敏感。欠拟合可以通过增加max_depth，减少min_samples_split来增加模型的拟合程度\n",
    "\n",
    "5. 如果在给定的训练集上训练决策树需要一个小时，那么如果将特征数量变为两倍，训练大约需要多少时间？\n",
    "\n",
    "决策数的复杂度为 树深度×log2(实例数)×特征数×实例数\n",
    "\n",
    "因此，将特征树翻倍，训练时间也就会翻倍\n",
    "\n",
    "6. 如果在包含100万个实例的训练集上训练决策树需要一个小时，那么在包含1000万个实例的训练集上训练决策树，大概需要多长时间？提示：考虑CART算法的计算复杂度。\n",
    "\n",
    "树深度×log2(实例数)×特征数×实例数 = 1 h\n",
    "\n",
    "树深度×log2(实例数*10)×特征数×实例数*10 ≈ 11.67 h\n",
    "\n"
   ],
   "id": "c8b56739308b5b88"
  },
  {
   "metadata": {},
   "cell_type": "markdown",
   "source": [
    "\n",
    "\n",
    "## 编程题"
   ],
   "id": "d57bc0d1695fa8ab"
  },
  {
   "metadata": {},
   "cell_type": "markdown",
   "source": [
    "1. 为 新月形 数据集训练并微调一棵决策树。\n",
    "\n",
    "a. 使用make_moons(n_samples=10000，noise=0.4)生成一个 新月形 数据集。\n",
    "\n",
    "b. 使用train_test_split()拆分训练集和测试集。\n",
    "\n",
    "c. 使用交叉验证的网格搜索（在GridSearchCV类的帮助下）为Decision-TreeClassifier找到适合的超参数值。提示：尝试max_leaf_nodes的多种值。\n",
    "\n",
    "d. 使用超参数对整个训练集进行训练，并测量模型在测试集上的性能。你应该得到约85%～87%的准确率。"
   ],
   "id": "df859f669d173482"
  },
  {
   "metadata": {
    "ExecuteTime": {
     "end_time": "2025-08-16T15:11:27.404071Z",
     "start_time": "2025-08-16T15:11:23.609150Z"
    }
   },
   "cell_type": "code",
   "source": [
    "from nltk import accuracy\n",
    "from sklearn.datasets import make_moons\n",
    "from sklearn.metrics import accuracy_score\n",
    "from sklearn.model_selection import train_test_split, GridSearchCV\n",
    "from sklearn.tree import DecisionTreeClassifier\n",
    "\n",
    "X,y = make_moons(n_samples=10000,noise = 0.4)\n",
    "X_train, X_test, y_train, y_test = train_test_split(X,y,test_size=0.2)\n",
    "grid_parm = {\n",
    "    \"max_depth\" : [3,5,7],\n",
    "    \"min_samples_split\" : [2,6,12],\n",
    "    \"min_samples_leaf\" : [3,6,9],\n",
    "    \"max_leaf_nodes\" : [2,4,6,8,10],\n",
    "}\n",
    "grid_search = GridSearchCV(DecisionTreeClassifier(), param_grid=grid_parm,cv = 5,scoring=\"accuracy\",n_jobs=-1)\n",
    "grid_search.fit(X_train ,y_train)"
   ],
   "id": "31f54aa20cbba72b",
   "outputs": [
    {
     "data": {
      "text/plain": [
       "GridSearchCV(cv=5, estimator=DecisionTreeClassifier(), n_jobs=-1,\n",
       "             param_grid={'max_depth': [3, 5, 7],\n",
       "                         'max_leaf_nodes': [2, 4, 6, 8, 10],\n",
       "                         'min_samples_leaf': [3, 6, 9],\n",
       "                         'min_samples_split': [2, 6, 12]},\n",
       "             scoring='accuracy')"
      ],
      "text/html": [
       "<style>#sk-container-id-4 {color: black;}#sk-container-id-4 pre{padding: 0;}#sk-container-id-4 div.sk-toggleable {background-color: white;}#sk-container-id-4 label.sk-toggleable__label {cursor: pointer;display: block;width: 100%;margin-bottom: 0;padding: 0.3em;box-sizing: border-box;text-align: center;}#sk-container-id-4 label.sk-toggleable__label-arrow:before {content: \"▸\";float: left;margin-right: 0.25em;color: #696969;}#sk-container-id-4 label.sk-toggleable__label-arrow:hover:before {color: black;}#sk-container-id-4 div.sk-estimator:hover label.sk-toggleable__label-arrow:before {color: black;}#sk-container-id-4 div.sk-toggleable__content {max-height: 0;max-width: 0;overflow: hidden;text-align: left;background-color: #f0f8ff;}#sk-container-id-4 div.sk-toggleable__content pre {margin: 0.2em;color: black;border-radius: 0.25em;background-color: #f0f8ff;}#sk-container-id-4 input.sk-toggleable__control:checked~div.sk-toggleable__content {max-height: 200px;max-width: 100%;overflow: auto;}#sk-container-id-4 input.sk-toggleable__control:checked~label.sk-toggleable__label-arrow:before {content: \"▾\";}#sk-container-id-4 div.sk-estimator input.sk-toggleable__control:checked~label.sk-toggleable__label {background-color: #d4ebff;}#sk-container-id-4 div.sk-label input.sk-toggleable__control:checked~label.sk-toggleable__label {background-color: #d4ebff;}#sk-container-id-4 input.sk-hidden--visually {border: 0;clip: rect(1px 1px 1px 1px);clip: rect(1px, 1px, 1px, 1px);height: 1px;margin: -1px;overflow: hidden;padding: 0;position: absolute;width: 1px;}#sk-container-id-4 div.sk-estimator {font-family: monospace;background-color: #f0f8ff;border: 1px dotted black;border-radius: 0.25em;box-sizing: border-box;margin-bottom: 0.5em;}#sk-container-id-4 div.sk-estimator:hover {background-color: #d4ebff;}#sk-container-id-4 div.sk-parallel-item::after {content: \"\";width: 100%;border-bottom: 1px solid gray;flex-grow: 1;}#sk-container-id-4 div.sk-label:hover label.sk-toggleable__label {background-color: #d4ebff;}#sk-container-id-4 div.sk-serial::before {content: \"\";position: absolute;border-left: 1px solid gray;box-sizing: border-box;top: 0;bottom: 0;left: 50%;z-index: 0;}#sk-container-id-4 div.sk-serial {display: flex;flex-direction: column;align-items: center;background-color: white;padding-right: 0.2em;padding-left: 0.2em;position: relative;}#sk-container-id-4 div.sk-item {position: relative;z-index: 1;}#sk-container-id-4 div.sk-parallel {display: flex;align-items: stretch;justify-content: center;background-color: white;position: relative;}#sk-container-id-4 div.sk-item::before, #sk-container-id-4 div.sk-parallel-item::before {content: \"\";position: absolute;border-left: 1px solid gray;box-sizing: border-box;top: 0;bottom: 0;left: 50%;z-index: -1;}#sk-container-id-4 div.sk-parallel-item {display: flex;flex-direction: column;z-index: 1;position: relative;background-color: white;}#sk-container-id-4 div.sk-parallel-item:first-child::after {align-self: flex-end;width: 50%;}#sk-container-id-4 div.sk-parallel-item:last-child::after {align-self: flex-start;width: 50%;}#sk-container-id-4 div.sk-parallel-item:only-child::after {width: 0;}#sk-container-id-4 div.sk-dashed-wrapped {border: 1px dashed gray;margin: 0 0.4em 0.5em 0.4em;box-sizing: border-box;padding-bottom: 0.4em;background-color: white;}#sk-container-id-4 div.sk-label label {font-family: monospace;font-weight: bold;display: inline-block;line-height: 1.2em;}#sk-container-id-4 div.sk-label-container {text-align: center;}#sk-container-id-4 div.sk-container {/* jupyter's `normalize.less` sets `[hidden] { display: none; }` but bootstrap.min.css set `[hidden] { display: none !important; }` so we also need the `!important` here to be able to override the default hidden behavior on the sphinx rendered scikit-learn.org. See: https://github.com/scikit-learn/scikit-learn/issues/21755 */display: inline-block !important;position: relative;}#sk-container-id-4 div.sk-text-repr-fallback {display: none;}</style><div id=\"sk-container-id-4\" class=\"sk-top-container\"><div class=\"sk-text-repr-fallback\"><pre>GridSearchCV(cv=5, estimator=DecisionTreeClassifier(), n_jobs=-1,\n",
       "             param_grid={&#x27;max_depth&#x27;: [3, 5, 7],\n",
       "                         &#x27;max_leaf_nodes&#x27;: [2, 4, 6, 8, 10],\n",
       "                         &#x27;min_samples_leaf&#x27;: [3, 6, 9],\n",
       "                         &#x27;min_samples_split&#x27;: [2, 6, 12]},\n",
       "             scoring=&#x27;accuracy&#x27;)</pre><b>In a Jupyter environment, please rerun this cell to show the HTML representation or trust the notebook. <br />On GitHub, the HTML representation is unable to render, please try loading this page with nbviewer.org.</b></div><div class=\"sk-container\" hidden><div class=\"sk-item sk-dashed-wrapped\"><div class=\"sk-label-container\"><div class=\"sk-label sk-toggleable\"><input class=\"sk-toggleable__control sk-hidden--visually\" id=\"sk-estimator-id-10\" type=\"checkbox\" ><label for=\"sk-estimator-id-10\" class=\"sk-toggleable__label sk-toggleable__label-arrow\">GridSearchCV</label><div class=\"sk-toggleable__content\"><pre>GridSearchCV(cv=5, estimator=DecisionTreeClassifier(), n_jobs=-1,\n",
       "             param_grid={&#x27;max_depth&#x27;: [3, 5, 7],\n",
       "                         &#x27;max_leaf_nodes&#x27;: [2, 4, 6, 8, 10],\n",
       "                         &#x27;min_samples_leaf&#x27;: [3, 6, 9],\n",
       "                         &#x27;min_samples_split&#x27;: [2, 6, 12]},\n",
       "             scoring=&#x27;accuracy&#x27;)</pre></div></div></div><div class=\"sk-parallel\"><div class=\"sk-parallel-item\"><div class=\"sk-item\"><div class=\"sk-label-container\"><div class=\"sk-label sk-toggleable\"><input class=\"sk-toggleable__control sk-hidden--visually\" id=\"sk-estimator-id-11\" type=\"checkbox\" ><label for=\"sk-estimator-id-11\" class=\"sk-toggleable__label sk-toggleable__label-arrow\">estimator: DecisionTreeClassifier</label><div class=\"sk-toggleable__content\"><pre>DecisionTreeClassifier()</pre></div></div></div><div class=\"sk-serial\"><div class=\"sk-item\"><div class=\"sk-estimator sk-toggleable\"><input class=\"sk-toggleable__control sk-hidden--visually\" id=\"sk-estimator-id-12\" type=\"checkbox\" ><label for=\"sk-estimator-id-12\" class=\"sk-toggleable__label sk-toggleable__label-arrow\">DecisionTreeClassifier</label><div class=\"sk-toggleable__content\"><pre>DecisionTreeClassifier()</pre></div></div></div></div></div></div></div></div></div></div>"
      ]
     },
     "execution_count": 72,
     "metadata": {},
     "output_type": "execute_result"
    }
   ],
   "execution_count": 72
  },
  {
   "metadata": {
    "ExecuteTime": {
     "end_time": "2025-08-16T15:11:28.574032Z",
     "start_time": "2025-08-16T15:11:28.542939Z"
    }
   },
   "cell_type": "code",
   "source": [
    "best_model  =  grid_search.best_estimator_\n",
    "print(best_model.score(X_train,y_train))\n",
    "grid_search.best_params_"
   ],
   "id": "383ea963fe6a21ac",
   "outputs": [
    {
     "name": "stdout",
     "output_type": "stream",
     "text": [
      "0.867125\n"
     ]
    },
    {
     "data": {
      "text/plain": [
       "{'max_depth': 3,\n",
       " 'max_leaf_nodes': 4,\n",
       " 'min_samples_leaf': 3,\n",
       " 'min_samples_split': 2}"
      ]
     },
     "execution_count": 73,
     "metadata": {},
     "output_type": "execute_result"
    }
   ],
   "execution_count": 73
  },
  {
   "metadata": {
    "ExecuteTime": {
     "end_time": "2025-08-16T15:11:30.442551Z",
     "start_time": "2025-08-16T15:11:30.411661Z"
    }
   },
   "cell_type": "code",
   "source": [
    "dtc = DecisionTreeClassifier(max_depth= 3,max_leaf_nodes= 4,min_samples_split= 2,min_samples_leaf= 3).fit(X_train,y_train)\n",
    "dtc.score(X_train,y_train)"
   ],
   "id": "3110ed96fa9812e3",
   "outputs": [
    {
     "data": {
      "text/plain": [
       "0.867125"
      ]
     },
     "execution_count": 74,
     "metadata": {},
     "output_type": "execute_result"
    }
   ],
   "execution_count": 74
  },
  {
   "metadata": {
    "ExecuteTime": {
     "end_time": "2025-08-16T15:11:36.768659Z",
     "start_time": "2025-08-16T15:11:36.753399Z"
    }
   },
   "cell_type": "code",
   "source": [
    "from sklearn.metrics import accuracy_score\n",
    "\n",
    "one = dtc.predict(X_test)\n",
    "accuracy_score(y_test,one)"
   ],
   "id": "cae17675e0a9c567",
   "outputs": [
    {
     "data": {
      "text/plain": [
       "0.8465"
      ]
     },
     "execution_count": 75,
     "metadata": {},
     "output_type": "execute_result"
    }
   ],
   "execution_count": 75
  },
  {
   "metadata": {},
   "cell_type": "markdown",
   "source": [
    "2. 按照以下步骤种植森林。\n",
    "\n",
    "a.继续之前的练习，生产1000个训练集子集，每个子集包含随机挑选的100个实例。提示：使用Scikit-Learn的ShuffleSplit类来实现。\n",
    "\n",
    "b.使用前面得到的最佳超参数值，在每个子集上训练一棵决策树。在测试集上评估这1000棵决策树。因为训练集更小，所以这些决策树的表现可能比第一棵决策树要差一些，只能达到约80%的精度。\n",
    "\n",
    "c.见证奇迹的时刻到了。用每个测试集实例，生成1000棵决策树的预测，然后仅保留次数最频繁的预测［可以使用SciPy的mode()函数］。这样你在测试集上可获得大多数投票的预测结果。\n",
    "\n",
    "d.评估测试集上的这些预测，你得到的准确率应该比第一个模型更高（高出0.5%～1.5%）。恭喜，你已经训练出了一个随机森林分类器！"
   ],
   "id": "ed6c04b5518d9498"
  },
  {
   "metadata": {
    "ExecuteTime": {
     "end_time": "2025-08-16T15:11:43.138398Z",
     "start_time": "2025-08-16T15:11:41.955733Z"
    }
   },
   "cell_type": "code",
   "source": [
    "import numpy as np\n",
    "from scipy.stats import mode\n",
    "from sklearn.model_selection import  ShuffleSplit\n",
    "\n",
    "# 先划分固定测试集\n",
    "from sklearn.model_selection import train_test_split\n",
    "X_train, X_test, y_train, y_test = train_test_split(X, y, test_size=0.1, random_state=42)\n",
    "\n",
    "predictions  = []\n",
    "sfsp = ShuffleSplit(n_splits=1000, train_size=100, random_state=42)\n",
    "\n",
    "for train_index, _ in sfsp.split(X_train):\n",
    "    dtc = DecisionTreeClassifier(max_depth= 3,max_leaf_nodes= 4,min_samples_split= 2,min_samples_leaf= 3)\n",
    "    dtc.fit(X_train[train_index], y_train[train_index])\n",
    "    predictions.append(dtc.predict(X_test))\n",
    "final_pred = mode(np.array(predictions ), axis=0)[0]"
   ],
   "id": "c73f731a299a3a99",
   "outputs": [],
   "execution_count": 76
  },
  {
   "metadata": {
    "ExecuteTime": {
     "end_time": "2025-08-16T15:11:43.849705Z",
     "start_time": "2025-08-16T15:11:43.834444Z"
    }
   },
   "cell_type": "code",
   "source": [
    "from sklearn.metrics import accuracy_score\n",
    "accuracy_score(y_test,final_pred)"
   ],
   "id": "1390a07c459b34ac",
   "outputs": [
    {
     "data": {
      "text/plain": [
       "0.867"
      ]
     },
     "execution_count": 77,
     "metadata": {},
     "output_type": "execute_result"
    }
   ],
   "execution_count": 77
  },
  {
   "metadata": {},
   "cell_type": "code",
   "outputs": [],
   "execution_count": null,
   "source": "",
   "id": "3a92ce19642c67f1"
  }
 ],
 "metadata": {
  "kernelspec": {
   "display_name": "Python 3",
   "language": "python",
   "name": "python3"
  },
  "language_info": {
   "codemirror_mode": {
    "name": "ipython",
    "version": 2
   },
   "file_extension": ".py",
   "mimetype": "text/x-python",
   "name": "python",
   "nbconvert_exporter": "python",
   "pygments_lexer": "ipython2",
   "version": "2.7.6"
  }
 },
 "nbformat": 4,
 "nbformat_minor": 5
}
