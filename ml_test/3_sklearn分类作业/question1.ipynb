{
 "cells": [
  {
   "metadata": {},
   "cell_type": "markdown",
   "source": [
    "任务：\n",
    "使用线性回归 和决策树回归预测学生期末成绩，并比较模型性能。数据集采用UCI机器学习库中的\"学生表现数据集\"。  数据文件：student-mat.csv\n",
    "\n",
    "实现步骤：\n",
    "1. 将数据加载到Pandas DataFrame\n",
    "2. 分离特征(X)和目标变量(y)\n",
    "3. 按80-20划分训练测试集(random_state=42)\n",
    "4. 使用StandardScaler标准化特征\n",
    "5. 训练以下模型：\n",
    "   - 线性回归\n",
    "   - 决策树回归\n",
    "   - 多项式回归（degree=2）\n",
    "6. 计算各模型的MSE分数，R2分数\n",
    "7. 输出评估指标\n"
   ],
   "id": "e0b92823b6ca8625"
  },
  {
   "cell_type": "code",
   "id": "initial_id",
   "metadata": {
    "collapsed": true
   },
   "source": [
    "import pandas as pd\n",
    "import numpy as np\n",
    "import os\n",
    "print(os.getcwd())\n",
    "data =  pd.read_csv (\"ml_test/datasets/student-mat.csv\", delimiter=\";\")"
   ],
   "outputs": [],
   "execution_count": null
  },
  {
   "metadata": {},
   "cell_type": "code",
   "source": "data.head()",
   "id": "188e5087cd812847",
   "outputs": [],
   "execution_count": null
  },
  {
   "metadata": {},
   "cell_type": "code",
   "source": "data.info()",
   "id": "463e48096bc6374a",
   "outputs": [],
   "execution_count": null
  },
  {
   "metadata": {},
   "cell_type": "code",
   "source": [
    "data_num = data.select_dtypes(include=[np.number])\n",
    "data_num.info()"
   ],
   "id": "84395fa7a7bbe70f",
   "outputs": [],
   "execution_count": null
  },
  {
   "metadata": {},
   "cell_type": "code",
   "source": [
    "data_str = data.select_dtypes(exclude=[np.number])\n",
    "data_str.info()"
   ],
   "id": "ba2ae3eba6a40de4",
   "outputs": [],
   "execution_count": null
  },
  {
   "metadata": {},
   "cell_type": "code",
   "source": [
    "# 仅使用数字作为测试依据\n",
    "from sklearn.model_selection import train_test_split\n",
    "X = data_num.iloc[:, :-3]\n",
    "y = data_num.iloc[:, -1]\n",
    "X_train, X_test, y_train, y_test = train_test_split(X, y, test_size=0.2, random_state=42)"
   ],
   "id": "a6aa29e59a9d40be",
   "outputs": [],
   "execution_count": null
  },
  {
   "metadata": {},
   "cell_type": "code",
   "source": [
    "from sklearn.preprocessing import StandardScaler\n",
    "sc = StandardScaler()\n",
    "X_train = sc.fit_transform(X_train)\n",
    "X_test = sc.fit_transform(X_test)"
   ],
   "id": "cd8087953ca02aad",
   "outputs": [],
   "execution_count": null
  },
  {
   "metadata": {},
   "cell_type": "code",
   "source": [
    "from sklearn.linear_model import LinearRegression\n",
    "lr = LinearRegression()\n",
    "lr.fit(X_train, y_train)\n",
    "y_pred11 = lr.predict(X_test)\n",
    "\n",
    "from sklearn.tree import DecisionTreeRegressor\n",
    "dtr = DecisionTreeRegressor()\n",
    "dtr.fit(X_train, y_train)\n",
    "y_pred12 = dtr.predict(X_test)\n",
    "\n",
    "from sklearn.preprocessing import PolynomialFeatures\n",
    "from sklearn.pipeline import make_pipeline\n",
    "pf = make_pipeline(\n",
    "    PolynomialFeatures(degree=2),\n",
    "    LinearRegression()\n",
    ")\n",
    "pf.fit(X_train, y_train)\n",
    "y_pred13 = pf.predict(X_test)"
   ],
   "id": "d4650c6df384e98",
   "outputs": [],
   "execution_count": null
  },
  {
   "metadata": {},
   "cell_type": "code",
   "source": [
    "from sklearn.metrics import mean_squared_error\n",
    "mse11 = mean_squared_error(y_test, y_pred11)\n",
    "print(mse11)\n",
    "mse12 = mean_squared_error(y_test, y_pred12)\n",
    "print(mse12)\n",
    "mse13 = mean_squared_error(y_test, y_pred13)\n",
    "print(mse13)"
   ],
   "id": "e4bee37b1a9395de",
   "outputs": [],
   "execution_count": null
  },
  {
   "metadata": {},
   "cell_type": "code",
   "source": [
    "from sklearn.metrics import r2_score\n",
    "r11 = r2_score(y_test, y_pred11)\n",
    "print(r11)\n",
    "r12 = r2_score(y_test, y_pred12)\n",
    "print(r12)\n",
    "r13 = r2_score(y_test, y_pred13)\n",
    "print(r13)"
   ],
   "id": "1cf5e7bf7c5b1633",
   "outputs": [],
   "execution_count": null
  },
  {
   "metadata": {},
   "cell_type": "code",
   "source": [
    "# 使用所有的数据进行预测\n",
    "# 分离数据\n",
    "X = data.iloc[:, :-3]\n",
    "y = data.iloc[:, -1]\n",
    "X_train, X_test, y_train, y_test = train_test_split(X, y, test_size=0.2, random_state=42)"
   ],
   "id": "6d121f0a3b3fbbbe",
   "outputs": [],
   "execution_count": null
  },
  {
   "metadata": {},
   "cell_type": "code",
   "source": [
    "from sklearn.compose import ColumnTransformer\n",
    "from sklearn.preprocessing import OneHotEncoder\n",
    "# 三元组（标签，列处理方法，列明）\n",
    "ct = ColumnTransformer([\n",
    "    (\"num\",StandardScaler(),X_train.select_dtypes(include=[np.number]).columns),\n",
    "    (\"str\",OneHotEncoder(),X_train.select_dtypes(exclude=[np.number]).columns)\n",
    "])\n"
   ],
   "id": "4ab389e6c02542f2",
   "outputs": [],
   "execution_count": null
  },
  {
   "metadata": {},
   "cell_type": "code",
   "source": [
    "from sklearn.pipeline import Pipeline\n",
    "# pipeline二元组，（标签，流水线/预测方法）\n",
    "pl21 = Pipeline([\n",
    "    (\"ct\",ct),\n",
    "    (\"reg\",LinearRegression())\n",
    "])\n",
    "pl22 = Pipeline([\n",
    "    (\"ct\",ct),\n",
    "    (\"reg\",DecisionTreeRegressor())\n",
    "])\n",
    "pl23 = Pipeline([\n",
    "    (\"ct\",ct),\n",
    "    (\"pl\",PolynomialFeatures(degree=2)),\n",
    "    (\"reg\",LinearRegression())\n",
    "])\n",
    "pl21,pl22,pl23"
   ],
   "id": "56fe394e63a61666",
   "outputs": [],
   "execution_count": null
  },
  {
   "metadata": {},
   "cell_type": "code",
   "source": [
    "pl21.fit(X_train, y_train)\n",
    "pl22.fit(X_train,y_train)\n",
    "pl23.fit(X_train,y_train)\n",
    "y_pred21 = pl21.predict(X_test)\n",
    "y_pred22 = pl22.predict(X_test)\n",
    "y_pred23 = pl23.predict(X_test)\n"
   ],
   "id": "6ed303f8694a499c",
   "outputs": [],
   "execution_count": null
  },
  {
   "metadata": {},
   "cell_type": "code",
   "source": [
    "mse21 = mean_squared_error(y_test, y_pred21)\n",
    "mse22 = mean_squared_error(y_test, y_pred22)\n",
    "mse23 = mean_squared_error(y_test, y_pred23)\n",
    "print(mse21,mse22,mse23)"
   ],
   "id": "3fc2169c93536214",
   "outputs": [],
   "execution_count": null
  },
  {
   "metadata": {},
   "cell_type": "code",
   "source": [
    "r21 = r2_score(y_test, y_pred21)\n",
    "print(r21)\n",
    "r22 = r2_score(y_test, y_pred22)\n",
    "print(r22)\n",
    "r23 = r2_score(y_test, y_pred23)\n",
    "print(r23)"
   ],
   "id": "6c930141ed4b224a",
   "outputs": [],
   "execution_count": null
  },
  {
   "metadata": {},
   "cell_type": "code",
   "source": "",
   "id": "2223587f8a02675c",
   "outputs": [],
   "execution_count": null
  }
 ],
 "metadata": {
  "kernelspec": {
   "display_name": "Python 3",
   "language": "python",
   "name": "python3"
  },
  "language_info": {
   "codemirror_mode": {
    "name": "ipython",
    "version": 2
   },
   "file_extension": ".py",
   "mimetype": "text/x-python",
   "name": "python",
   "nbconvert_exporter": "python",
   "pygments_lexer": "ipython2",
   "version": "2.7.6"
  }
 },
 "nbformat": 4,
 "nbformat_minor": 5
}
