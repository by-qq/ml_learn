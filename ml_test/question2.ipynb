{
 "cells": [
  {
   "metadata": {},
   "cell_type": "markdown",
   "source": [
    "2. 处理泰坦尼克号数据集，在data/目录里像之前课程里  对读取加州房价数据所做的那样  解压缩此压缩包。\n",
    "\n",
    "这将提供两个CSV文件，train.csv和test.csv，可以使用pandas.read_csv()加载它。\n",
    "\n",
    "最后目标：目标是训练一个可以根据其他列预测Survived（是否存活）列的分类器\n"
   ],
   "id": "6c4daf09c0adaa51"
  },
  {
   "metadata": {
    "ExecuteTime": {
     "end_time": "2025-08-02T07:25:31.021964Z",
     "start_time": "2025-08-02T07:25:29.114379Z"
    }
   },
   "cell_type": "code",
   "source": [
    "import numpy as np\n",
    "import pandas as pd\n",
    "import tarfile\n",
    "from pathlib import Path\n",
    "# import os\n",
    "# print(os.getcwd())\n",
    "def data_read():\n",
    "    df_path =  Path(\"datasets/titanic.tgz\")\n",
    "    if not df_path.is_file():\n",
    "        raise ValueError(\"数据不存在\")\n",
    "    with tarfile.open(df_path) as f:\n",
    "        f.extractall(path=\"datasets\")\n",
    "    return pd.read_csv(\"datasets/titanic/train.csv\"), pd.read_csv(\"datasets/titanic/test.csv\")\n",
    "train,test = data_read()"
   ],
   "id": "875b1d77ff9767cd",
   "outputs": [],
   "execution_count": 9
  },
  {
   "metadata": {
    "ExecuteTime": {
     "end_time": "2025-08-02T07:27:17.095705Z",
     "start_time": "2025-08-02T07:27:16.811835Z"
    }
   },
   "cell_type": "code",
   "source": "train.info()",
   "id": "528734ebbdd019ab",
   "outputs": [
    {
     "name": "stdout",
     "output_type": "stream",
     "text": [
      "<class 'pandas.core.frame.DataFrame'>\n",
      "RangeIndex: 891 entries, 0 to 890\n",
      "Data columns (total 12 columns):\n",
      " #   Column       Non-Null Count  Dtype  \n",
      "---  ------       --------------  -----  \n",
      " 0   PassengerId  891 non-null    int64  \n",
      " 1   Survived     891 non-null    int64  \n",
      " 2   Pclass       891 non-null    int64  \n",
      " 3   Name         891 non-null    object \n",
      " 4   Sex          891 non-null    object \n",
      " 5   Age          714 non-null    float64\n",
      " 6   SibSp        891 non-null    int64  \n",
      " 7   Parch        891 non-null    int64  \n",
      " 8   Ticket       891 non-null    object \n",
      " 9   Fare         891 non-null    float64\n",
      " 10  Cabin        204 non-null    object \n",
      " 11  Embarked     889 non-null    object \n",
      "dtypes: float64(2), int64(5), object(5)\n",
      "memory usage: 83.7+ KB\n"
     ]
    }
   ],
   "execution_count": 10
  },
  {
   "metadata": {},
   "cell_type": "code",
   "outputs": [],
   "execution_count": null,
   "source": "# Age,Cabin,Embarked 为缺失值",
   "id": "4a6149fb856a7f31"
  }
 ],
 "metadata": {
  "kernelspec": {
   "display_name": "Python 3",
   "language": "python",
   "name": "python3"
  },
  "language_info": {
   "codemirror_mode": {
    "name": "ipython",
    "version": 2
   },
   "file_extension": ".py",
   "mimetype": "text/x-python",
   "name": "python",
   "nbconvert_exporter": "python",
   "pygments_lexer": "ipython2",
   "version": "2.7.6"
  }
 },
 "nbformat": 4,
 "nbformat_minor": 5
}
